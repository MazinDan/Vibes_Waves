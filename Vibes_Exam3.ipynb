{
 "cells": [
  {
   "cell_type": "code",
   "execution_count": null,
   "metadata": {},
   "outputs": [],
   "source": [
    "import numpy as np\n",
    "import math\n",
    "import matplotlib.pyplot as plt\n",
    "from matplotlib.animation import FuncAnimation\n",
    "%matplotlib notebook\n",
    "\n",
    "# Parameters\n",
    "num_masses = 3\n",
    "mass_radius = 0.1\n",
    "omega0 = 1\n",
    "spring_constant = 1\n",
    "normal_mode_amps = [0, 1, 0]\n",
    "normal_modes = [[-1,0,1], [1, np.sqrt(2), 1], [1, -np.sqrt(2), 1]]\n",
    "omegas = [np.sqrt(2)*omega0, np.sqrt(2 + np.sqrt(2))*omega0, np.sqrt(2 - np.sqrt(2))*omega0]\n",
    "initial_position = [-0.5, 0, 0.5]\n",
    "initial_velocity = [0, 0, 0]\n",
    "\n",
    "# Time parameters\n",
    "t0 = 0\n",
    "t_end = 10\n",
    "num_frames = 100\n",
    "t_values = np.linspace(t0, t_end, num_frames)\n",
    "dt = (t_end - t0) / num_frames\n",
    "\n",
    "# Create figure and axis\n",
    "fig, ax = plt.subplots()\n",
    "ax.set_xlim(-1.5, 1.5)\n",
    "ax.set_ylim(-0.5, 0.5)\n",
    "\n",
    "# Initialize masses\n",
    "mass1, = ax.plot([], [], 'o', markersize=10)\n",
    "mass2, = ax.plot([], [], 'o', markersize=10)\n",
    "mass3, = ax.plot([], [], 'o', markersize=10)\n",
    "\n",
    "masses = [mass1, mass2, mass3]\n",
    "\n",
    "# Update function\n",
    "def update(frame):\n",
    "    t = frame * dt\n",
    "    for i in range(num_masses):\n",
    "        x = initial_position[i]\n",
    "        for omega, mode, amplitude in zip(omegas, normal_modes, normal_mode_amps):\n",
    "            x += amplitude*mode[i]*np.cos(omega*t)\n",
    "    \n",
    "        masses[i].set_data([x], [0.2])\n",
    "    return masses\n",
    "\n",
    "# Create animation\n",
    "ani = FuncAnimation(fig, update, frames=num_frames, blit=True)\n",
    "\n",
    "# Show plot\n",
    "plt.xlabel('Position')\n",
    "plt.ylabel('Height')\n",
    "plt.title('Masses Oscillation')\n",
    "plt.grid(True)\n",
    "plt.show()"
   ]
  }
 ],
 "metadata": {
  "kernelspec": {
   "display_name": "NR_Fano",
   "language": "python",
   "name": "python3"
  },
  "language_info": {
   "codemirror_mode": {
    "name": "ipython",
    "version": 3
   },
   "file_extension": ".py",
   "mimetype": "text/x-python",
   "name": "python",
   "nbconvert_exporter": "python",
   "pygments_lexer": "ipython3",
   "version": "3.9.18"
  }
 },
 "nbformat": 4,
 "nbformat_minor": 2
}
